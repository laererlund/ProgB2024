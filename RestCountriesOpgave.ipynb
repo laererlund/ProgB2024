{
 "cells": [
  {
   "cell_type": "markdown",
   "metadata": {},
   "source": [
    "Lad os se om vi kan lave en funktion, der giver mulighed for selv at vælge regionen. \n",
    "\n",
    "For det første: Er der et endpoint, der giver navnene på de regions-betegnelser, der optræder i databasen?\n",
    "\n",
    "Eller kan du selv finde ud af at lave en sådan liste, ved at hente alle verdens lande ind, og derpå finde ud af hvilken region de tilhører?"
   ]
  },
  {
   "cell_type": "markdown",
   "metadata": {},
   "source": [
    "For det andet: Hvordan kan man lade brugeren selv vælge? Man kan bruge Python-funktionen input()..."
   ]
  },
  {
   "cell_type": "code",
   "execution_count": 6,
   "metadata": {},
   "outputs": [
    {
     "name": "stdout",
     "output_type": "stream",
     "text": [
      "[{'capital': ['Copenhagen'], 'region': 'Europe', 'population': 5831404}]\n"
     ]
    }
   ],
   "source": [
    "import requests\n",
    "\n",
    "navn = input(\"Giv mig et landenavn:\")\n",
    "\n",
    "url = \"https://restcountries.com/v3.1/\"\n",
    "endpt = \"name/\"\n",
    "spec = navn\n",
    "params = {\"fields\" : \"region,capital,population\"}\n",
    "url = url + endpt + spec\n",
    "data = requests.get(url, params).json()\n",
    "\n",
    "print(data)"
   ]
  },
  {
   "cell_type": "markdown",
   "metadata": {},
   "source": [
    "Men hvad hvis brugeren skriver noget der ikke findes? Så får man en fejl {'status': 404, 'message': 'Not Found'} ...\n",
    "\n",
    "Så kan du lave en liste over regioner? Og vise den til brugeren før der vælges?"
   ]
  },
  {
   "cell_type": "markdown",
   "metadata": {},
   "source": [
    "Næste opgave er at lave en liste over lovlige endpoints, som brugeren kan vælge fra. Men pas på nu, for endpoint påvirker også hvilke spec og params der er gyldige..."
   ]
  }
 ],
 "metadata": {
  "kernelspec": {
   "display_name": "Python 3",
   "language": "python",
   "name": "python3"
  },
  "language_info": {
   "codemirror_mode": {
    "name": "ipython",
    "version": 3
   },
   "file_extension": ".py",
   "mimetype": "text/x-python",
   "name": "python",
   "nbconvert_exporter": "python",
   "pygments_lexer": "ipython3",
   "version": "3.12.6"
  }
 },
 "nbformat": 4,
 "nbformat_minor": 2
}
