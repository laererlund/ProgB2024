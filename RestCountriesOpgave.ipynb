{
 "cells": [
  {
   "cell_type": "markdown",
   "metadata": {},
   "source": [
    "# Opgave 1\n",
    "\n",
    "Lad os se om vi kan lave en funktion, der giver mulighed for selv at vælge regionen. \n",
    "\n",
    "For det første: Er der et endpoint, der giver navnene på de regions-betegnelser, der optræder i databasen? Det ser ikke sådan ud.\n",
    "\n",
    "Men kan du selv finde ud af at lave en sådan liste, ved at hente alle verdens lande ind, og derpå finde ud af hvilken region de tilhører?\n",
    "\n",
    "Her er lidt at starte på"
   ]
  },
  {
   "cell_type": "code",
   "execution_count": null,
   "metadata": {},
   "outputs": [],
   "source": [
    "import requests"
   ]
  },
  {
   "cell_type": "markdown",
   "metadata": {},
   "source": [
    "Endpointet /all giver os alle lande i hele databasen. Dermed er vi sikre på også at få alle de regioner, der kan spørges efter"
   ]
  },
  {
   "cell_type": "code",
   "execution_count": null,
   "metadata": {},
   "outputs": [],
   "source": [
    "url = \"https://restcountries.com/v3.1/\"\n",
    "endpt = \"all\"\n",
    "spec = \"\"\n",
    "params = {\"fields\" : \"region\"}\n",
    "url = url + endpt + spec\n",
    "data = requests.get(url, params).json()"
   ]
  },
  {
   "cell_type": "markdown",
   "metadata": {},
   "source": [
    "For det andet: Hvordan kan man lade brugeren selv vælge? Man kan bruge Python-funktionen input()...\n",
    "\n",
    "Men hvad hvis brugeren skriver noget der ikke findes? Så får man en fejl {'status': 404, 'message': 'Not Found'} ...\n",
    "\n",
    "Lad os prøve at lave en liste over regioner - og vise den til brugeren før der vælges?"
   ]
  },
  {
   "cell_type": "code",
   "execution_count": null,
   "metadata": {},
   "outputs": [],
   "source": [
    "\n",
    "# Man kan bruge en list, men kun føje et navn på en region til hvis det ikke i forvejen findes på listen\n",
    "# regioner = [] \n",
    "# for c in data:\n",
    "#     if c[\"region\"] not in regioner:\n",
    "#         regioner.append(c[\"region\"])\n",
    "\n",
    "# Hvis man i stedet bruger et set, som ikke tillader dubletter, så behøver man ikke if-statementet\n",
    "regioner = set()\n",
    "for c in data:\n",
    "    regioner.add(c[\"region\"])\n",
    "\n",
    "print(regioner)"
   ]
  },
  {
   "cell_type": "markdown",
   "metadata": {},
   "source": [
    "Nu kan denne liste/set vises som hjælp til brugeren\n",
    "\n",
    "Bemærk hvordan F-string formatteringen giver mulighed for at sætte *regioner* ind uden videre\n",
    "\n",
    "Derpå udskrives resultatet - landene i regionen (her i usorteret orden. Det kan du selv forbedre på)"
   ]
  },
  {
   "cell_type": "code",
   "execution_count": null,
   "metadata": {},
   "outputs": [],
   "source": [
    "navn = input(f\"Giv mig landene i denne region - mulighederne er: {regioner}\")\n",
    "\n",
    "url = \"https://restcountries.com/v3.1/\"\n",
    "endpt = \"region/\"\n",
    "spec = navn\n",
    "params = {\"fields\" : \"name,capital,population\"}\n",
    "url = url + endpt + spec\n",
    "data = requests.get(url, params).json()\n",
    "\n",
    "for c in data:\n",
    "    print(c)"
   ]
  },
  {
   "cell_type": "markdown",
   "metadata": {},
   "source": [
    "# Opgave 2\n",
    "Næste opgave er at lave en liste over **lovlige parametre**, som brugeren kan vælge fra, når der spørges på lande. Hint: Find ud af hvilke keys, der er i den dict, der returneres med oplysninger om et land, og oplist disse keys.\n",
    "\n",
    "# Opgave 3\n",
    "Det ville være fint, om vi kunne gøre systemet endnu mere fleksibelt og hjælpsomt ved også at kunne præsentere oversigter over andre endpoints. Men vær omhyggelige, for endpoint påvirker også hvilke spec og params der er gyldige..."
   ]
  }
 ],
 "metadata": {
  "kernelspec": {
   "display_name": "Python 3",
   "language": "python",
   "name": "python3"
  },
  "language_info": {
   "codemirror_mode": {
    "name": "ipython",
    "version": 3
   },
   "file_extension": ".py",
   "mimetype": "text/x-python",
   "name": "python",
   "nbconvert_exporter": "python",
   "pygments_lexer": "ipython3",
   "version": "3.12.6"
  }
 },
 "nbformat": 4,
 "nbformat_minor": 2
}
