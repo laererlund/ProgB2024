{
 "cells": [
  {
   "cell_type": "markdown",
   "metadata": {},
   "source": [
    "**API** står for Application Programming Interface. Et API er altså en **grænseflade**, som et system kan tilbyde til andre applikationer, så disse kan anvende de data og funktioner, systemet indeholder.\n",
    "\n",
    "Et **web-API** er et web-baseret API, altså et API som man kan få adgang til ved hjælp af HTTP-requests. Ofte er det systemer, der giver adgang til **databaser** på internettet, som brugere og systemer andre steder kan trække på eller opdatere.\n",
    "\n",
    "Hvis man i Python skal kunne hente data fra et web-API, skal man til en start have importeret en package der kan håndtere HTTP: **requests**"
   ]
  },
  {
   "cell_type": "code",
   "execution_count": null,
   "metadata": {},
   "outputs": [],
   "source": [
    "\n",
    "import requests"
   ]
  },
  {
   "cell_type": "markdown",
   "metadata": {},
   "source": [
    "Dernæst skal vi have forbindelse til API'et - det ligger på websitet https://restcountries.com , og der er en række forskellige **endpoints**, altså muligheder for at spørge efter data på forskellig måde, som man kan læse sig frem til. Her vil vi spørge efter endpointet **region**, og vi vil specifikt gerne have lande fra Afrika. \n",
    "\n",
    "Vi vil dog ikke have alle data om alle landene - kun landets navn og befolkningstal, som derfor er de **parametre** vi spørger efter. Hvis HHTP-requesten blev lavet i en browser, ville parametrene stå efter et spørgsmålstegn i adresselinjen - prøv at se på en google-søgning"
   ]
  },
  {
   "cell_type": "code",
   "execution_count": null,
   "metadata": {},
   "outputs": [],
   "source": [
    "\n",
    "url = \"https://restcountries.com/v3.1/\"\n",
    "endpt = \"region/\"\n",
    "spec = \"africa\"\n",
    "params = {\"fields\" : \"name,population\"}\n",
    "url = url + endpt + spec\n",
    "data = requests.get(url, params).json()\n",
    "\n"
   ]
  },
  {
   "cell_type": "markdown",
   "metadata": {},
   "source": [
    "Så har vi nogle data. Hvad skal vi stille op med dem?\n",
    "\n",
    "Prøv at få dem udskrevet i sorteret orden, dels efter landets forbogstav, dels efter landets indbyggertal"
   ]
  },
  {
   "cell_type": "code",
   "execution_count": null,
   "metadata": {},
   "outputs": [],
   "source": [
    "\n",
    "# \"name\" er i sig selv en dict, men vi ønsker kun det almindelige (engelske) navn på landet\n",
    "countries = [\n",
    "    {\"name\":item[\"name\"][\"common\"], \"population\":item[\"population\"]}\n",
    "    for item in data]\n",
    "\n",
    "# lambda-funktioner er små, anonyme funktioner, der kun oprettes og bruges et enkelt sted\n",
    "sortedCountries = sorted(countries, key=lambda x: x[\"name\"])\n",
    "\n",
    "for c in sortedCountries:\n",
    "    print(c[\"name\"], c[\"population\"])\n"
   ]
  },
  {
   "cell_type": "markdown",
   "metadata": {},
   "source": []
  }
 ],
 "metadata": {
  "kernelspec": {
   "display_name": "Python 3",
   "language": "python",
   "name": "python3"
  },
  "language_info": {
   "codemirror_mode": {
    "name": "ipython",
    "version": 3
   },
   "file_extension": ".py",
   "mimetype": "text/x-python",
   "name": "python",
   "nbconvert_exporter": "python",
   "pygments_lexer": "ipython3",
   "version": "3.12.6"
  }
 },
 "nbformat": 4,
 "nbformat_minor": 2
}
