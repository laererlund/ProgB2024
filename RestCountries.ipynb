{
 "cells": [
  {
   "cell_type": "code",
   "execution_count": null,
   "metadata": {},
   "outputs": [],
   "source": [
    "import requests\n",
    "\n",
    "url = \"https://restcountries.com/v3.1/region/\"\n",
    "country = 'africa'\n",
    "params= {\"fields\" : \"name,population\"}\n",
    "url = url + country\n",
    "data = requests.get(url, params).json()\n",
    "\n",
    "\n",
    "\n",
    "\n",
    "# countries = [\n",
    "#     {\"name\":item[\"name\"][\"common\"], \"population\":item[\"population\"]}\n",
    "#     for item in data]\n",
    "\n",
    "# sortedCountries = sorted(countries, key=lambda x: x[\"name\"])"
   ]
  }
 ],
 "metadata": {
  "kernelspec": {
   "display_name": "Python 3",
   "language": "python",
   "name": "python3"
  },
  "language_info": {
   "codemirror_mode": {
    "name": "ipython",
    "version": 3
   },
   "file_extension": ".py",
   "mimetype": "text/x-python",
   "name": "python",
   "nbconvert_exporter": "python",
   "pygments_lexer": "ipython3",
   "version": "3.12.6"
  }
 },
 "nbformat": 4,
 "nbformat_minor": 2
}
